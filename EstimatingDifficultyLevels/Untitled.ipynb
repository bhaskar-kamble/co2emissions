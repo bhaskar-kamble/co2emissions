{
 "cells": [
  {
   "cell_type": "markdown",
   "metadata": {},
   "source": [
    "General:\n",
    "\n",
    "1. Cleaning the data ( 2002-2018) from 10 different files.) - 1 month.\n",
    "\n",
    "For co2 emissions and energy consumption from a particular region, the steps 2-3 are required:\n",
    "\n",
    "2. Writing the scripts for co2 balances (mainCO2_konstanz.R for example) – 3 months. The following scripts were written which run for SFH and MFH separately:\n",
    "\n",
    "\t2a. extract the region data. -   has to be done for each region (search for region name, does the region have bezirke, if so write additional scripts for the bezirke, as in Berlin). Difficulty level: 5\n",
    "\t2b. the energy proportions of the ET. Difficult level: 1\n",
    "\t2c. get the area propotions. Difficulty level: 1\n",
    "\t2d. get total area for each gtype (from external source – has to be done for each region). Difficulty level: 30-50 (Zeitaufwendig, depending on format of the data – berlin for example was a lot of work.)\n",
    "\t2e. get specific consumtion.  - has to be done for each region. Difficult Level: 15.\n",
    "\t2f. get total consumption (2e*2d). - Difficulty level: 1\n",
    "\t\t\n",
    "\t2g. get absolute energy shares of the ET (2b * 2f). Difficulty level: 1\n",
    "\t2h. get co2 coefficients (from external source – has to be done for each region) Difficulty level: 10-20 (depending on each case.)\n",
    "\t2i. get co2 emissions (2g * 2h). This includes the:\n",
    "\t\ttotal co2 emissions, \n",
    "\t\tspecific co2 emissions, \n",
    "\t\tper capita co2 emissions, and \n",
    "\t\tco2 emissions split by the ET.\n",
    "\t\tCo2 emissions split by ET (shares). Difficulty level: 30\n",
    "\tStep 2: Total difficulty level: \n",
    "    "
   ]
  },
  {
   "cell_type": "code",
   "execution_count": 3,
   "metadata": {},
   "outputs": [],
   "source": [
    "difflevel_gtype = 5+1+1+40+15+1+1+15+30"
   ]
  },
  {
   "cell_type": "markdown",
   "metadata": {},
   "source": [
    "3. Population – this is an additional script\n",
    "\t3a. Get the populations. If the populations split by Gtype are not available, estimate them from available population data and Building data, as in the case of Berlin. Has to be done for each region. \n",
    "\t\tPercapita energy consumption\n",
    "\t\tPer capita co2 emissions\n",
    "\t\tDifficulty level: 50-60."
   ]
  },
  {
   "cell_type": "code",
   "execution_count": null,
   "metadata": {},
   "outputs": [],
   "source": [
    "difflevel_gtype_pop = 55"
   ]
  },
  {
   "cell_type": "markdown",
   "metadata": {},
   "source": [
    "4. For co2 emissions and energy consumption from a region with smaller bezirks, steps 2 and 3 are to be carried out for each Bezirk inside the region, with each step having the same level of difficulty. In addition the following are required:\n",
    "\t4a. Breakup of the energy consumption by Bezirk.\n",
    "\t4b. Breakup of the co2 emissions by bezirk."
   ]
  },
  {
   "cell_type": "markdown",
   "metadata": {},
   "source": [
    "# Coding Difficulty Level"
   ]
  },
  {
   "cell_type": "code",
   "execution_count": 1,
   "metadata": {},
   "outputs": [],
   "source": [
    "def getDifficultyLevel():\n",
    "    cleanData = 10\n",
    "    \n"
   ]
  },
  {
   "cell_type": "code",
   "execution_count": null,
   "metadata": {},
   "outputs": [],
   "source": []
  },
  {
   "cell_type": "code",
   "execution_count": null,
   "metadata": {},
   "outputs": [],
   "source": []
  }
 ],
 "metadata": {
  "kernelspec": {
   "display_name": "Python 3",
   "language": "python",
   "name": "python3"
  },
  "language_info": {
   "codemirror_mode": {
    "name": "ipython",
    "version": 3
   },
   "file_extension": ".py",
   "mimetype": "text/x-python",
   "name": "python",
   "nbconvert_exporter": "python",
   "pygments_lexer": "ipython3",
   "version": "3.6.9"
  }
 },
 "nbformat": 4,
 "nbformat_minor": 2
}
