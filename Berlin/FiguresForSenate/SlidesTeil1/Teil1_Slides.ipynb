{
 "cells": [
  {
   "cell_type": "markdown",
   "metadata": {
    "slideshow": {
     "slide_type": "skip"
    }
   },
   "source": [
    "import os\n",
    "#os.listdir()\n",
    "path_to_teil_1 = \"/home/kbhaskar/Github_Repos/co2emissions/Berlin/FiguresForSenate/Teil1\"\n",
    "files_in_teil_1 = os.listdir(path_to_teil_1)"
   ]
  },
  {
   "cell_type": "markdown",
   "metadata": {
    "slideshow": {
     "slide_type": "slide"
    }
   },
   "source": [
    "# Berlin CO$_2$ Bilanzen\n",
    "\n",
    "## Teil 1"
   ]
  },
  {
   "cell_type": "markdown",
   "metadata": {
    "slideshow": {
     "slide_type": "slide"
    }
   },
   "source": [
    "# Stichprobengröße\n",
    "\n",
    "## alle Wohngebäude"
   ]
  },
  {
   "cell_type": "code",
   "execution_count": 7,
   "metadata": {
    "slideshow": {
     "slide_type": "skip"
    }
   },
   "outputs": [],
   "source": [
    "from IPython.core.display import SVG"
   ]
  },
  {
   "cell_type": "code",
   "execution_count": 9,
   "metadata": {},
   "outputs": [
    {
     "data": {
      "image/svg+xml": [
       "<svg viewBox=\"0 0 525.00 324.00\" xmlns=\"http://www.w3.org/2000/svg\" xmlns:xlink=\"http://www.w3.org/1999/xlink\">\n",
       "<defs>\n",
       "  <style type=\"text/css\"><![CDATA[\n",
       "    line, polyline, polygon, path, rect, circle {\n",
       "      fill: none;\n",
       "      stroke: #000000;\n",
       "      stroke-linecap: round;\n",
       "      stroke-linejoin: round;\n",
       "      stroke-miterlimit: 10.00;\n",
       "    }\n",
       "  ]]></style>\n",
       "</defs>\n",
       "<rect height=\"100%\" style=\"stroke: none; fill: #FFFFFF;\" width=\"100%\"/>\n",
       "<rect height=\"324.00\" style=\"stroke-width: 1.07; stroke: #FFFFFF; fill: #FFFFFF;\" width=\"525.00\" x=\"0.00\" y=\"0.00\"/>\n",
       "<defs>\n",
       "  <clipPath id=\"cpNDIuNTh8NTE5LjUyfDI5My4xMnwyMi43OA==\">\n",
       "    <rect height=\"270.34\" width=\"476.94\" x=\"42.58\" y=\"22.78\"/>\n",
       "  </clipPath>\n",
       "</defs>\n",
       "<rect clip-path=\"url(#cpNDIuNTh8NTE5LjUyfDI5My4xMnwyMi43OA==)\" height=\"270.34\" style=\"stroke-width: 1.07; stroke: none; fill: #EBEBEB;\" width=\"476.94\" x=\"42.58\" y=\"22.78\"/>\n",
       "<polyline clip-path=\"url(#cpNDIuNTh8NTE5LjUyfDI5My4xMnwyMi43OA==)\" points=\"42.58,276.45 519.52,276.45 \" style=\"stroke-width: 0.53; stroke: #FFFFFF; stroke-linecap: butt;\"/>\n",
       "<polyline clip-path=\"url(#cpNDIuNTh8NTE5LjUyfDI5My4xMnwyMi43OA==)\" points=\"42.58,226.13 519.52,226.13 \" style=\"stroke-width: 0.53; stroke: #FFFFFF; stroke-linecap: butt;\"/>\n",
       "<polyline clip-path=\"url(#cpNDIuNTh8NTE5LjUyfDI5My4xMnwyMi43OA==)\" points=\"42.58,175.81 519.52,175.81 \" style=\"stroke-width: 0.53; stroke: #FFFFFF; stroke-linecap: butt;\"/>\n",
       "<polyline clip-path=\"url(#cpNDIuNTh8NTE5LjUyfDI5My4xMnwyMi43OA==)\" points=\"42.58,125.49 519.52,125.49 \" style=\"stroke-width: 0.53; stroke: #FFFFFF; stroke-linecap: butt;\"/>\n",
       "<polyline clip-path=\"url(#cpNDIuNTh8NTE5LjUyfDI5My4xMnwyMi43OA==)\" points=\"42.58,75.17 519.52,75.17 \" style=\"stroke-width: 0.53; stroke: #FFFFFF; stroke-linecap: butt;\"/>\n",
       "<polyline clip-path=\"url(#cpNDIuNTh8NTE5LjUyfDI5My4xMnwyMi43OA==)\" points=\"42.58,24.85 519.52,24.85 \" style=\"stroke-width: 0.53; stroke: #FFFFFF; stroke-linecap: butt;\"/>\n",
       "<polyline clip-path=\"url(#cpNDIuNTh8NTE5LjUyfDI5My4xMnwyMi43OA==)\" points=\"91.36,293.12 91.36,22.78 \" style=\"stroke-width: 0.53; stroke: #FFFFFF; stroke-linecap: butt;\"/>\n",
       "<polyline clip-path=\"url(#cpNDIuNTh8NTE5LjUyfDI5My4xMnwyMi43OA==)\" points=\"145.55,293.12 145.55,22.78 \" style=\"stroke-width: 0.53; stroke: #FFFFFF; stroke-linecap: butt;\"/>\n",
       "<polyline clip-path=\"url(#cpNDIuNTh8NTE5LjUyfDI5My4xMnwyMi43OA==)\" points=\"199.75,293.12 199.75,22.78 \" style=\"stroke-width: 0.53; stroke: #FFFFFF; stroke-linecap: butt;\"/>\n",
       "<polyline clip-path=\"url(#cpNDIuNTh8NTE5LjUyfDI5My4xMnwyMi43OA==)\" points=\"253.95,293.12 253.95,22.78 \" style=\"stroke-width: 0.53; stroke: #FFFFFF; stroke-linecap: butt;\"/>\n",
       "<polyline clip-path=\"url(#cpNDIuNTh8NTE5LjUyfDI5My4xMnwyMi43OA==)\" points=\"308.15,293.12 308.15,22.78 \" style=\"stroke-width: 0.53; stroke: #FFFFFF; stroke-linecap: butt;\"/>\n",
       "<polyline clip-path=\"url(#cpNDIuNTh8NTE5LjUyfDI5My4xMnwyMi43OA==)\" points=\"362.35,293.12 362.35,22.78 \" style=\"stroke-width: 0.53; stroke: #FFFFFF; stroke-linecap: butt;\"/>\n",
       "<polyline clip-path=\"url(#cpNDIuNTh8NTE5LjUyfDI5My4xMnwyMi43OA==)\" points=\"416.54,293.12 416.54,22.78 \" style=\"stroke-width: 0.53; stroke: #FFFFFF; stroke-linecap: butt;\"/>\n",
       "<polyline clip-path=\"url(#cpNDIuNTh8NTE5LjUyfDI5My4xMnwyMi43OA==)\" points=\"470.74,293.12 470.74,22.78 \" style=\"stroke-width: 0.53; stroke: #FFFFFF; stroke-linecap: butt;\"/>\n",
       "<polyline clip-path=\"url(#cpNDIuNTh8NTE5LjUyfDI5My4xMnwyMi43OA==)\" points=\"42.58,251.29 519.52,251.29 \" style=\"stroke-width: 1.07; stroke: #FFFFFF; stroke-linecap: butt;\"/>\n",
       "<polyline clip-path=\"url(#cpNDIuNTh8NTE5LjUyfDI5My4xMnwyMi43OA==)\" points=\"42.58,200.97 519.52,200.97 \" style=\"stroke-width: 1.07; stroke: #FFFFFF; stroke-linecap: butt;\"/>\n",
       "<polyline clip-path=\"url(#cpNDIuNTh8NTE5LjUyfDI5My4xMnwyMi43OA==)\" points=\"42.58,150.65 519.52,150.65 \" style=\"stroke-width: 1.07; stroke: #FFFFFF; stroke-linecap: butt;\"/>\n",
       "<polyline clip-path=\"url(#cpNDIuNTh8NTE5LjUyfDI5My4xMnwyMi43OA==)\" points=\"42.58,100.33 519.52,100.33 \" style=\"stroke-width: 1.07; stroke: #FFFFFF; stroke-linecap: butt;\"/>\n",
       "<polyline clip-path=\"url(#cpNDIuNTh8NTE5LjUyfDI5My4xMnwyMi43OA==)\" points=\"42.58,50.01 519.52,50.01 \" style=\"stroke-width: 1.07; stroke: #FFFFFF; stroke-linecap: butt;\"/>\n",
       "<polyline clip-path=\"url(#cpNDIuNTh8NTE5LjUyfDI5My4xMnwyMi43OA==)\" points=\"64.26,293.12 64.26,22.78 \" style=\"stroke-width: 1.07; stroke: #FFFFFF; stroke-linecap: butt;\"/>\n",
       "<polyline clip-path=\"url(#cpNDIuNTh8NTE5LjUyfDI5My4xMnwyMi43OA==)\" points=\"118.46,293.12 118.46,22.78 \" style=\"stroke-width: 1.07; stroke: #FFFFFF; stroke-linecap: butt;\"/>\n",
       "<polyline clip-path=\"url(#cpNDIuNTh8NTE5LjUyfDI5My4xMnwyMi43OA==)\" points=\"172.65,293.12 172.65,22.78 \" style=\"stroke-width: 1.07; stroke: #FFFFFF; stroke-linecap: butt;\"/>\n",
       "<polyline clip-path=\"url(#cpNDIuNTh8NTE5LjUyfDI5My4xMnwyMi43OA==)\" points=\"226.85,293.12 226.85,22.78 \" style=\"stroke-width: 1.07; stroke: #FFFFFF; stroke-linecap: butt;\"/>\n",
       "<polyline clip-path=\"url(#cpNDIuNTh8NTE5LjUyfDI5My4xMnwyMi43OA==)\" points=\"281.05,293.12 281.05,22.78 \" style=\"stroke-width: 1.07; stroke: #FFFFFF; stroke-linecap: butt;\"/>\n",
       "<polyline clip-path=\"url(#cpNDIuNTh8NTE5LjUyfDI5My4xMnwyMi43OA==)\" points=\"335.25,293.12 335.25,22.78 \" style=\"stroke-width: 1.07; stroke: #FFFFFF; stroke-linecap: butt;\"/>\n",
       "<polyline clip-path=\"url(#cpNDIuNTh8NTE5LjUyfDI5My4xMnwyMi43OA==)\" points=\"389.45,293.12 389.45,22.78 \" style=\"stroke-width: 1.07; stroke: #FFFFFF; stroke-linecap: butt;\"/>\n",
       "<polyline clip-path=\"url(#cpNDIuNTh8NTE5LjUyfDI5My4xMnwyMi43OA==)\" points=\"443.64,293.12 443.64,22.78 \" style=\"stroke-width: 1.07; stroke: #FFFFFF; stroke-linecap: butt;\"/>\n",
       "<polyline clip-path=\"url(#cpNDIuNTh8NTE5LjUyfDI5My4xMnwyMi43OA==)\" points=\"497.84,293.12 497.84,22.78 \" style=\"stroke-width: 1.07; stroke: #FFFFFF; stroke-linecap: butt;\"/>\n",
       "<circle clip-path=\"url(#cpNDIuNTh8NTE5LjUyfDI5My4xMnwyMi43OA==)\" cx=\"64.26\" cy=\"254.16\" r=\"1.95pt\" style=\"stroke-width: 0.71; fill: #000000;\"/>\n",
       "<circle clip-path=\"url(#cpNDIuNTh8NTE5LjUyfDI5My4xMnwyMi43OA==)\" cx=\"91.36\" cy=\"162.23\" r=\"1.95pt\" style=\"stroke-width: 0.71; fill: #000000;\"/>\n",
       "<circle clip-path=\"url(#cpNDIuNTh8NTE5LjUyfDI5My4xMnwyMi43OA==)\" cx=\"118.46\" cy=\"90.72\" r=\"1.95pt\" style=\"stroke-width: 0.71; fill: #000000;\"/>\n",
       "<circle clip-path=\"url(#cpNDIuNTh8NTE5LjUyfDI5My4xMnwyMi43OA==)\" cx=\"145.55\" cy=\"35.22\" r=\"1.95pt\" style=\"stroke-width: 0.71; fill: #000000;\"/>\n",
       "<circle clip-path=\"url(#cpNDIuNTh8NTE5LjUyfDI5My4xMnwyMi43OA==)\" cx=\"172.65\" cy=\"35.07\" r=\"1.95pt\" style=\"stroke-width: 0.71; fill: #000000;\"/>\n",
       "<circle clip-path=\"url(#cpNDIuNTh8NTE5LjUyfDI5My4xMnwyMi43OA==)\" cx=\"199.75\" cy=\"53.23\" r=\"1.95pt\" style=\"stroke-width: 0.71; fill: #000000;\"/>\n",
       "<circle clip-path=\"url(#cpNDIuNTh8NTE5LjUyfDI5My4xMnwyMi43OA==)\" cx=\"226.85\" cy=\"90.67\" r=\"1.95pt\" style=\"stroke-width: 0.71; fill: #000000;\"/>\n",
       "<circle clip-path=\"url(#cpNDIuNTh8NTE5LjUyfDI5My4xMnwyMi43OA==)\" cx=\"253.95\" cy=\"95.15\" r=\"1.95pt\" style=\"stroke-width: 0.71; fill: #000000;\"/>\n",
       "<circle clip-path=\"url(#cpNDIuNTh8NTE5LjUyfDI5My4xMnwyMi43OA==)\" cx=\"281.05\" cy=\"120.31\" r=\"1.95pt\" style=\"stroke-width: 0.71; fill: #000000;\"/>\n",
       "<circle clip-path=\"url(#cpNDIuNTh8NTE5LjUyfDI5My4xMnwyMi43OA==)\" cx=\"308.15\" cy=\"129.32\" r=\"1.95pt\" style=\"stroke-width: 0.71; fill: #000000;\"/>\n",
       "<circle clip-path=\"url(#cpNDIuNTh8NTE5LjUyfDI5My4xMnwyMi43OA==)\" cx=\"335.25\" cy=\"160.36\" r=\"1.95pt\" style=\"stroke-width: 0.71; fill: #000000;\"/>\n",
       "<circle clip-path=\"url(#cpNDIuNTh8NTE5LjUyfDI5My4xMnwyMi43OA==)\" cx=\"362.35\" cy=\"194.38\" r=\"1.95pt\" style=\"stroke-width: 0.71; fill: #000000;\"/>\n",
       "<circle clip-path=\"url(#cpNDIuNTh8NTE5LjUyfDI5My4xMnwyMi43OA==)\" cx=\"389.45\" cy=\"223.01\" r=\"1.95pt\" style=\"stroke-width: 0.71; fill: #000000;\"/>\n",
       "<circle clip-path=\"url(#cpNDIuNTh8NTE5LjUyfDI5My4xMnwyMi43OA==)\" cx=\"416.54\" cy=\"231.97\" r=\"1.95pt\" style=\"stroke-width: 0.71; fill: #000000;\"/>\n",
       "<circle clip-path=\"url(#cpNDIuNTh8NTE5LjUyfDI5My4xMnwyMi43OA==)\" cx=\"443.64\" cy=\"241.43\" r=\"1.95pt\" style=\"stroke-width: 0.71; fill: #000000;\"/>\n",
       "<circle clip-path=\"url(#cpNDIuNTh8NTE5LjUyfDI5My4xMnwyMi43OA==)\" cx=\"470.74\" cy=\"238.66\" r=\"1.95pt\" style=\"stroke-width: 0.71; fill: #000000;\"/>\n",
       "<circle clip-path=\"url(#cpNDIuNTh8NTE5LjUyfDI5My4xMnwyMi43OA==)\" cx=\"497.84\" cy=\"280.83\" r=\"1.95pt\" style=\"stroke-width: 0.71; fill: #000000;\"/>\n",
       "<defs>\n",
       "  <clipPath id=\"cpMC4wMHw1MjUuMDB8MzI0LjAwfDAuMDA=\">\n",
       "    <rect height=\"324.00\" width=\"525.00\" x=\"0.00\" y=\"0.00\"/>\n",
       "  </clipPath>\n",
       "</defs>\n",
       "<g clip-path=\"url(#cpMC4wMHw1MjUuMDB8MzI0LjAwfDAuMDA=)\"><text lengthAdjust=\"spacingAndGlyphs\" style=\"font-size: 8.80px; fill: #4D4D4D; font-family: Liberation Sans;\" textLength=\"19.58px\" x=\"18.07\" y=\"254.32\">1000</text></g>\n",
       "<g clip-path=\"url(#cpMC4wMHw1MjUuMDB8MzI0LjAwfDAuMDA=)\"><text lengthAdjust=\"spacingAndGlyphs\" style=\"font-size: 8.80px; fill: #4D4D4D; font-family: Liberation Sans;\" textLength=\"19.58px\" x=\"18.07\" y=\"204.00\">2000</text></g>\n",
       "<g clip-path=\"url(#cpMC4wMHw1MjUuMDB8MzI0LjAwfDAuMDA=)\"><text lengthAdjust=\"spacingAndGlyphs\" style=\"font-size: 8.80px; fill: #4D4D4D; font-family: Liberation Sans;\" textLength=\"19.58px\" x=\"18.07\" y=\"153.68\">3000</text></g>\n",
       "<g clip-path=\"url(#cpMC4wMHw1MjUuMDB8MzI0LjAwfDAuMDA=)\"><text lengthAdjust=\"spacingAndGlyphs\" style=\"font-size: 8.80px; fill: #4D4D4D; font-family: Liberation Sans;\" textLength=\"19.58px\" x=\"18.07\" y=\"103.36\">4000</text></g>\n",
       "<g clip-path=\"url(#cpMC4wMHw1MjUuMDB8MzI0LjAwfDAuMDA=)\"><text lengthAdjust=\"spacingAndGlyphs\" style=\"font-size: 8.80px; fill: #4D4D4D; font-family: Liberation Sans;\" textLength=\"19.58px\" x=\"18.07\" y=\"53.04\">5000</text></g>\n",
       "<polyline clip-path=\"url(#cpMC4wMHw1MjUuMDB8MzI0LjAwfDAuMDA=)\" points=\"39.84,251.29 42.58,251.29 \" style=\"stroke-width: 1.07; stroke: #333333; stroke-linecap: butt;\"/>\n",
       "<polyline clip-path=\"url(#cpMC4wMHw1MjUuMDB8MzI0LjAwfDAuMDA=)\" points=\"39.84,200.97 42.58,200.97 \" style=\"stroke-width: 1.07; stroke: #333333; stroke-linecap: butt;\"/>\n",
       "<polyline clip-path=\"url(#cpMC4wMHw1MjUuMDB8MzI0LjAwfDAuMDA=)\" points=\"39.84,150.65 42.58,150.65 \" style=\"stroke-width: 1.07; stroke: #333333; stroke-linecap: butt;\"/>\n",
       "<polyline clip-path=\"url(#cpMC4wMHw1MjUuMDB8MzI0LjAwfDAuMDA=)\" points=\"39.84,100.33 42.58,100.33 \" style=\"stroke-width: 1.07; stroke: #333333; stroke-linecap: butt;\"/>\n",
       "<polyline clip-path=\"url(#cpMC4wMHw1MjUuMDB8MzI0LjAwfDAuMDA=)\" points=\"39.84,50.01 42.58,50.01 \" style=\"stroke-width: 1.07; stroke: #333333; stroke-linecap: butt;\"/>\n",
       "<polyline clip-path=\"url(#cpMC4wMHw1MjUuMDB8MzI0LjAwfDAuMDA=)\" points=\"64.26,295.86 64.26,293.12 \" style=\"stroke-width: 1.07; stroke: #333333; stroke-linecap: butt;\"/>\n",
       "<polyline clip-path=\"url(#cpMC4wMHw1MjUuMDB8MzI0LjAwfDAuMDA=)\" points=\"118.46,295.86 118.46,293.12 \" style=\"stroke-width: 1.07; stroke: #333333; stroke-linecap: butt;\"/>\n",
       "<polyline clip-path=\"url(#cpMC4wMHw1MjUuMDB8MzI0LjAwfDAuMDA=)\" points=\"172.65,295.86 172.65,293.12 \" style=\"stroke-width: 1.07; stroke: #333333; stroke-linecap: butt;\"/>\n",
       "<polyline clip-path=\"url(#cpMC4wMHw1MjUuMDB8MzI0LjAwfDAuMDA=)\" points=\"226.85,295.86 226.85,293.12 \" style=\"stroke-width: 1.07; stroke: #333333; stroke-linecap: butt;\"/>\n",
       "<polyline clip-path=\"url(#cpMC4wMHw1MjUuMDB8MzI0LjAwfDAuMDA=)\" points=\"281.05,295.86 281.05,293.12 \" style=\"stroke-width: 1.07; stroke: #333333; stroke-linecap: butt;\"/>\n",
       "<polyline clip-path=\"url(#cpMC4wMHw1MjUuMDB8MzI0LjAwfDAuMDA=)\" points=\"335.25,295.86 335.25,293.12 \" style=\"stroke-width: 1.07; stroke: #333333; stroke-linecap: butt;\"/>\n",
       "<polyline clip-path=\"url(#cpMC4wMHw1MjUuMDB8MzI0LjAwfDAuMDA=)\" points=\"389.45,295.86 389.45,293.12 \" style=\"stroke-width: 1.07; stroke: #333333; stroke-linecap: butt;\"/>\n",
       "<polyline clip-path=\"url(#cpMC4wMHw1MjUuMDB8MzI0LjAwfDAuMDA=)\" points=\"443.64,295.86 443.64,293.12 \" style=\"stroke-width: 1.07; stroke: #333333; stroke-linecap: butt;\"/>\n",
       "<polyline clip-path=\"url(#cpMC4wMHw1MjUuMDB8MzI0LjAwfDAuMDA=)\" points=\"497.84,295.86 497.84,293.12 \" style=\"stroke-width: 1.07; stroke: #333333; stroke-linecap: butt;\"/>\n",
       "<g clip-path=\"url(#cpMC4wMHw1MjUuMDB8MzI0LjAwfDAuMDA=)\"><text lengthAdjust=\"spacingAndGlyphs\" style=\"font-size: 8.80px; fill: #4D4D4D; font-family: Liberation Sans;\" textLength=\"19.58px\" x=\"54.47\" y=\"304.10\">2002</text></g>\n",
       "<g clip-path=\"url(#cpMC4wMHw1MjUuMDB8MzI0LjAwfDAuMDA=)\"><text lengthAdjust=\"spacingAndGlyphs\" style=\"font-size: 8.80px; fill: #4D4D4D; font-family: Liberation Sans;\" textLength=\"19.58px\" x=\"108.67\" y=\"304.10\">2004</text></g>\n",
       "<g clip-path=\"url(#cpMC4wMHw1MjUuMDB8MzI0LjAwfDAuMDA=)\"><text lengthAdjust=\"spacingAndGlyphs\" style=\"font-size: 8.80px; fill: #4D4D4D; font-family: Liberation Sans;\" textLength=\"19.58px\" x=\"162.86\" y=\"304.10\">2006</text></g>\n",
       "<g clip-path=\"url(#cpMC4wMHw1MjUuMDB8MzI0LjAwfDAuMDA=)\"><text lengthAdjust=\"spacingAndGlyphs\" style=\"font-size: 8.80px; fill: #4D4D4D; font-family: Liberation Sans;\" textLength=\"19.58px\" x=\"217.06\" y=\"304.10\">2008</text></g>\n",
       "<g clip-path=\"url(#cpMC4wMHw1MjUuMDB8MzI0LjAwfDAuMDA=)\"><text lengthAdjust=\"spacingAndGlyphs\" style=\"font-size: 8.80px; fill: #4D4D4D; font-family: Liberation Sans;\" textLength=\"19.58px\" x=\"271.26\" y=\"304.10\">2010</text></g>\n",
       "<g clip-path=\"url(#cpMC4wMHw1MjUuMDB8MzI0LjAwfDAuMDA=)\"><text lengthAdjust=\"spacingAndGlyphs\" style=\"font-size: 8.80px; fill: #4D4D4D; font-family: Liberation Sans;\" textLength=\"19.58px\" x=\"325.46\" y=\"304.10\">2012</text></g>\n",
       "<g clip-path=\"url(#cpMC4wMHw1MjUuMDB8MzI0LjAwfDAuMDA=)\"><text lengthAdjust=\"spacingAndGlyphs\" style=\"font-size: 8.80px; fill: #4D4D4D; font-family: Liberation Sans;\" textLength=\"19.58px\" x=\"379.66\" y=\"304.10\">2014</text></g>\n",
       "<g clip-path=\"url(#cpMC4wMHw1MjUuMDB8MzI0LjAwfDAuMDA=)\"><text lengthAdjust=\"spacingAndGlyphs\" style=\"font-size: 8.80px; fill: #4D4D4D; font-family: Liberation Sans;\" textLength=\"19.58px\" x=\"433.86\" y=\"304.10\">2016</text></g>\n",
       "<g clip-path=\"url(#cpMC4wMHw1MjUuMDB8MzI0LjAwfDAuMDA=)\"><text lengthAdjust=\"spacingAndGlyphs\" style=\"font-size: 8.80px; fill: #4D4D4D; font-family: Liberation Sans;\" textLength=\"19.58px\" x=\"488.05\" y=\"304.10\">2018</text></g>\n",
       "<g clip-path=\"url(#cpMC4wMHw1MjUuMDB8MzI0LjAwfDAuMDA=)\"><text lengthAdjust=\"spacingAndGlyphs\" style=\"font-size: 11.00px; font-family: Liberation Sans;\" textLength=\"21.40px\" x=\"270.35\" y=\"316.24\">Jahr</text></g>\n",
       "<g clip-path=\"url(#cpMC4wMHw1MjUuMDB8MzI0LjAwfDAuMDA=)\"><text lengthAdjust=\"spacingAndGlyphs\" style=\"font-size: 11.00px; font-family: Liberation Sans;\" textLength=\"87.44px\" transform=\"translate(13.05,201.67) rotate(-90)\">Stichprobengröße</text></g>\n",
       "<g clip-path=\"url(#cpMC4wMHw1MjUuMDB8MzI0LjAwfDAuMDA=)\"><text lengthAdjust=\"spacingAndGlyphs\" style=\"font-size: 13.20px; font-family: Liberation Sans;\" textLength=\"268.56px\" x=\"42.58\" y=\"14.56\">Berlin, alle Wohngebäude (Stichprobengröße)</text></g>\n",
       "</svg>"
      ],
      "text/plain": [
       "<IPython.core.display.SVG object>"
      ]
     },
     "execution_count": 9,
     "metadata": {},
     "output_type": "execute_result"
    }
   ],
   "source": [
    "SVG(filename='../Teil1/ALL_Section____fig_1.svg')"
   ]
  },
  {
   "cell_type": "markdown",
   "metadata": {
    "slideshow": {
     "slide_type": "slide"
    }
   },
   "source": [
    "# Stichprobengröße\n",
    "\n",
    "## 1-2 Familiengebäude"
   ]
  },
  {
   "cell_type": "markdown",
   "metadata": {},
   "source": [
    "# Stichprobengröße\n",
    "\n",
    "## Mehrfamiliengebäude"
   ]
  },
  {
   "cell_type": "code",
   "execution_count": null,
   "metadata": {},
   "outputs": [],
   "source": []
  }
 ],
 "metadata": {
  "celltoolbar": "Slideshow",
  "kernelspec": {
   "display_name": "Python 3",
   "language": "python",
   "name": "python3"
  },
  "language_info": {
   "codemirror_mode": {
    "name": "ipython",
    "version": 3
   },
   "file_extension": ".py",
   "mimetype": "text/x-python",
   "name": "python",
   "nbconvert_exporter": "python",
   "pygments_lexer": "ipython3",
   "version": "3.6.8"
  }
 },
 "nbformat": 4,
 "nbformat_minor": 2
}
